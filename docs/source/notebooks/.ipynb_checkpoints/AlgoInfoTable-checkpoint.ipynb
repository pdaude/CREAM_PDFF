{
 "cells": [
  {
   "cell_type": "markdown",
   "id": "477cecdb",
   "metadata": {},
   "source": [
    "# Introduction"
   ]
  },
  {
   "cell_type": "code",
   "execution_count": 1,
   "id": "ba313695",
   "metadata": {
    "tags": [
     "remove-input"
    ]
   },
   "outputs": [],
   "source": [
    "import pandas as pd\n",
    "import os \n",
    "import yaml\n",
    "import glob\n",
    "import os.path as op"
   ]
  },
  {
   "cell_type": "code",
   "execution_count": 2,
   "id": "7510394b",
   "metadata": {
    "nbsphinx": "hidden",
    "tags": [
     "hide-cell"
    ]
   },
   "outputs": [],
   "source": [
    "def convLink(name,url):\n",
    "    return '<a href=\"{}\">{}</a>'.format(url,name)"
   ]
  },
  {
   "cell_type": "code",
   "execution_count": 3,
   "id": "0b326507",
   "metadata": {
    "nbsphinx": "hidden",
    "tags": [
     "hide-input"
    ]
   },
   "outputs": [],
   "source": [
    "algoInfoYmlList=glob.glob('./../../../**/info_algo.yml')\n",
    "algoInfoList=[]\n",
    "for algoInfoFile in algoInfoYmlList:\n",
    "    with open(op.abspath(algoInfoFile), 'r') as algoInfoYml:\n",
    "        algoInfoDict=yaml.safe_load(algoInfoYml)\n",
    "        algoInfoList.append(algoInfoDict)\n",
    "\n",
    "df=pd.DataFrame(algoInfoList)\n",
    "df['Code repository']=df.apply(lambda x: convLink(x['Code repository'],x['Code repository Url']),axis=1)\n",
    "df.drop(columns=[col for col in df.columns if col.find('Url')!=-1],axis=1,inplace=True)\n"
   ]
  },
  {
   "cell_type": "code",
   "execution_count": 4,
   "id": "8c776891",
   "metadata": {
    "tags": [
     "remove-input"
    ]
   },
   "outputs": [
    {
     "data": {
      "text/html": [
       "<style  type=\"text/css\" >\n",
       "</style><table id=\"T_fcedaa88_278f_11ed_a0d9_0bf5813a6449\" ><thead>    <tr>        <th class=\"blank level0\" ></th>        <th class=\"col_heading level0 col0\" >Reference</th>        <th class=\"col_heading level0 col1\" >Referred as</th>        <th class=\"col_heading level0 col2\" >Method</th>        <th class=\"col_heading level0 col3\" >Code</th>        <th class=\"col_heading level0 col4\" >2D/3D</th>        <th class=\"col_heading level0 col5\" >Echo spacing</th>        <th class=\"col_heading level0 col6\" >Year</th>        <th class=\"col_heading level0 col7\" >Code repository</th>        <th class=\"col_heading level0 col8\" >main CREAM code</th>    </tr></thead><tbody>\n",
       "                <tr>\n",
       "                        <th id=\"T_fcedaa88_278f_11ed_a0d9_0bf5813a6449level0_row0\" class=\"row_heading level0 row0\" >0</th>\n",
       "                        <td id=\"T_fcedaa88_278f_11ed_a0d9_0bf5813a6449row0_col0\" class=\"data row0 col0\" >Liu et al.</td>\n",
       "                        <td id=\"T_fcedaa88_278f_11ed_a0d9_0bf5813a6449row0_col1\" class=\"data row0 col1\" >B0-NICE</td>\n",
       "                        <td id=\"T_fcedaa88_278f_11ed_a0d9_0bf5813a6449row0_col2\" class=\"data row0 col2\" >Region-Based</td>\n",
       "                        <td id=\"T_fcedaa88_278f_11ed_a0d9_0bf5813a6449row0_col3\" class=\"data row0 col3\" >Matlab</td>\n",
       "                        <td id=\"T_fcedaa88_278f_11ed_a0d9_0bf5813a6449row0_col4\" class=\"data row0 col4\" >3D</td>\n",
       "                        <td id=\"T_fcedaa88_278f_11ed_a0d9_0bf5813a6449row0_col5\" class=\"data row0 col5\" >Uniform</td>\n",
       "                        <td id=\"T_fcedaa88_278f_11ed_a0d9_0bf5813a6449row0_col6\" class=\"data row0 col6\" >2015</td>\n",
       "                        <td id=\"T_fcedaa88_278f_11ed_a0d9_0bf5813a6449row0_col7\" class=\"data row0 col7\" ><a href=\"https://fr.mathworks.com/matlabcentral/fileexchange/48313-b0-mapping-b0-nice\">B0-Nice repository</a></td>\n",
       "                        <td id=\"T_fcedaa88_278f_11ed_a0d9_0bf5813a6449row0_col8\" class=\"data row0 col8\" >B0NICE_main</td>\n",
       "            </tr>\n",
       "            <tr>\n",
       "                        <th id=\"T_fcedaa88_278f_11ed_a0d9_0bf5813a6449level0_row1\" class=\"row_heading level0 row1\" >1</th>\n",
       "                        <td id=\"T_fcedaa88_278f_11ed_a0d9_0bf5813a6449row1_col0\" class=\"data row1 col0\" >Bydder et al.</td>\n",
       "                        <td id=\"T_fcedaa88_278f_11ed_a0d9_0bf5813a6449row1_col1\" class=\"data row1 col1\" >IDEAL-CE</td>\n",
       "                        <td id=\"T_fcedaa88_278f_11ed_a0d9_0bf5813a6449row1_col2\" class=\"data row1 col2\" >IDEAL</td>\n",
       "                        <td id=\"T_fcedaa88_278f_11ed_a0d9_0bf5813a6449row1_col3\" class=\"data row1 col3\" >Matlab</td>\n",
       "                        <td id=\"T_fcedaa88_278f_11ed_a0d9_0bf5813a6449row1_col4\" class=\"data row1 col4\" >3D</td>\n",
       "                        <td id=\"T_fcedaa88_278f_11ed_a0d9_0bf5813a6449row1_col5\" class=\"data row1 col5\" >Free</td>\n",
       "                        <td id=\"T_fcedaa88_278f_11ed_a0d9_0bf5813a6449row1_col6\" class=\"data row1 col6\" >2020</td>\n",
       "                        <td id=\"T_fcedaa88_278f_11ed_a0d9_0bf5813a6449row1_col7\" class=\"data row1 col7\" ><a href=\"https://github.com/marcsous/pdff\">IDEAL-CE repository</a></td>\n",
       "                        <td id=\"T_fcedaa88_278f_11ed_a0d9_0bf5813a6449row1_col8\" class=\"data row1 col8\" >Bydder_main</td>\n",
       "            </tr>\n",
       "            <tr>\n",
       "                        <th id=\"T_fcedaa88_278f_11ed_a0d9_0bf5813a6449level0_row2\" class=\"row_heading level0 row2\" >2</th>\n",
       "                        <td id=\"T_fcedaa88_278f_11ed_a0d9_0bf5813a6449row2_col0\" class=\"data row2 col0\" >Berglund et al.</td>\n",
       "                        <td id=\"T_fcedaa88_278f_11ed_a0d9_0bf5813a6449row2_col1\" class=\"data row2 col1\" >Fatty_RIOT_GC</td>\n",
       "                        <td id=\"T_fcedaa88_278f_11ed_a0d9_0bf5813a6449row2_col2\" class=\"data row2 col2\" >Graph-cut</td>\n",
       "                        <td id=\"T_fcedaa88_278f_11ed_a0d9_0bf5813a6449row2_col3\" class=\"data row2 col3\" >Matlab</td>\n",
       "                        <td id=\"T_fcedaa88_278f_11ed_a0d9_0bf5813a6449row2_col4\" class=\"data row2 col4\" >3D</td>\n",
       "                        <td id=\"T_fcedaa88_278f_11ed_a0d9_0bf5813a6449row2_col5\" class=\"data row2 col5\" >Free</td>\n",
       "                        <td id=\"T_fcedaa88_278f_11ed_a0d9_0bf5813a6449row2_col6\" class=\"data row2 col6\" >2012</td>\n",
       "                        <td id=\"T_fcedaa88_278f_11ed_a0d9_0bf5813a6449row2_col7\" class=\"data row2 col7\" ><a href=\"https://github.com/welcheb/fw_i3cm1i_3pluspoint_berglund_QPBO\">Fatty_RIOT_GC repository</a></td>\n",
       "                        <td id=\"T_fcedaa88_278f_11ed_a0d9_0bf5813a6449row2_col8\" class=\"data row2 col8\" >Berglund_main</td>\n",
       "            </tr>\n",
       "            <tr>\n",
       "                        <th id=\"T_fcedaa88_278f_11ed_a0d9_0bf5813a6449level0_row3\" class=\"row_heading level0 row3\" >3</th>\n",
       "                        <td id=\"T_fcedaa88_278f_11ed_a0d9_0bf5813a6449row3_col0\" class=\"data row3 col0\" >Andersson et al.</td>\n",
       "                        <td id=\"T_fcedaa88_278f_11ed_a0d9_0bf5813a6449row3_col1\" class=\"data row3 col1\" >MSCGA-A</td>\n",
       "                        <td id=\"T_fcedaa88_278f_11ed_a0d9_0bf5813a6449row3_col2\" class=\"data row3 col2\" >Graph-cut</td>\n",
       "                        <td id=\"T_fcedaa88_278f_11ed_a0d9_0bf5813a6449row3_col3\" class=\"data row3 col3\" >Matlab</td>\n",
       "                        <td id=\"T_fcedaa88_278f_11ed_a0d9_0bf5813a6449row3_col4\" class=\"data row3 col4\" >3D</td>\n",
       "                        <td id=\"T_fcedaa88_278f_11ed_a0d9_0bf5813a6449row3_col5\" class=\"data row3 col5\" >Uniform</td>\n",
       "                        <td id=\"T_fcedaa88_278f_11ed_a0d9_0bf5813a6449row3_col6\" class=\"data row3 col6\" >2018</td>\n",
       "                        <td id=\"T_fcedaa88_278f_11ed_a0d9_0bf5813a6449row3_col7\" class=\"data row3 col7\" ><a href=\"https://github.com/Snubben-B/FW-Recon-Spatial-Smoothing\">MSCGA-A repository</a></td>\n",
       "                        <td id=\"T_fcedaa88_278f_11ed_a0d9_0bf5813a6449row3_col8\" class=\"data row3 col8\" >Snubben_main</td>\n",
       "            </tr>\n",
       "            <tr>\n",
       "                        <th id=\"T_fcedaa88_278f_11ed_a0d9_0bf5813a6449level0_row4\" class=\"row_heading level0 row4\" >4</th>\n",
       "                        <td id=\"T_fcedaa88_278f_11ed_a0d9_0bf5813a6449row4_col0\" class=\"data row4 col0\" >Cui et al.</td>\n",
       "                        <td id=\"T_fcedaa88_278f_11ed_a0d9_0bf5813a6449row4_col1\" class=\"data row4 col1\" >GOOSE</td>\n",
       "                        <td id=\"T_fcedaa88_278f_11ed_a0d9_0bf5813a6449row4_col2\" class=\"data row4 col2\" >Graph-cut</td>\n",
       "                        <td id=\"T_fcedaa88_278f_11ed_a0d9_0bf5813a6449row4_col3\" class=\"data row4 col3\" >Matlab</td>\n",
       "                        <td id=\"T_fcedaa88_278f_11ed_a0d9_0bf5813a6449row4_col4\" class=\"data row4 col4\" >2D</td>\n",
       "                        <td id=\"T_fcedaa88_278f_11ed_a0d9_0bf5813a6449row4_col5\" class=\"data row4 col5\" >Uniform/Free</td>\n",
       "                        <td id=\"T_fcedaa88_278f_11ed_a0d9_0bf5813a6449row4_col6\" class=\"data row4 col6\" >2015</td>\n",
       "                        <td id=\"T_fcedaa88_278f_11ed_a0d9_0bf5813a6449row4_col7\" class=\"data row4 col7\" ><a href=\"https://research.engineering.uiowa.edu/cbig/content/goose\">Goose repository</a></td>\n",
       "                        <td id=\"T_fcedaa88_278f_11ed_a0d9_0bf5813a6449row4_col8\" class=\"data row4 col8\" >GOOSE_main</td>\n",
       "            </tr>\n",
       "            <tr>\n",
       "                        <th id=\"T_fcedaa88_278f_11ed_a0d9_0bf5813a6449level0_row5\" class=\"row_heading level0 row5\" >5</th>\n",
       "                        <td id=\"T_fcedaa88_278f_11ed_a0d9_0bf5813a6449row5_col0\" class=\"data row5 col0\" >Berglund et al.</td>\n",
       "                        <td id=\"T_fcedaa88_278f_11ed_a0d9_0bf5813a6449row5_col1\" class=\"data row5 col1\" >MSCGA-B</td>\n",
       "                        <td id=\"T_fcedaa88_278f_11ed_a0d9_0bf5813a6449row5_col2\" class=\"data row5 col2\" >Graph-cut</td>\n",
       "                        <td id=\"T_fcedaa88_278f_11ed_a0d9_0bf5813a6449row5_col3\" class=\"data row5 col3\" >Python</td>\n",
       "                        <td id=\"T_fcedaa88_278f_11ed_a0d9_0bf5813a6449row5_col4\" class=\"data row5 col4\" >3D</td>\n",
       "                        <td id=\"T_fcedaa88_278f_11ed_a0d9_0bf5813a6449row5_col5\" class=\"data row5 col5\" >Uniform</td>\n",
       "                        <td id=\"T_fcedaa88_278f_11ed_a0d9_0bf5813a6449row5_col6\" class=\"data row5 col6\" >2017</td>\n",
       "                        <td id=\"T_fcedaa88_278f_11ed_a0d9_0bf5813a6449row5_col7\" class=\"data row5 col7\" ><a href=\"https://github.com/bretglun/fwqpbo\">MSCGA-B repository</a></td>\n",
       "                        <td id=\"T_fcedaa88_278f_11ed_a0d9_0bf5813a6449row5_col8\" class=\"data row5 col8\" >main</td>\n",
       "            </tr>\n",
       "            <tr>\n",
       "                        <th id=\"T_fcedaa88_278f_11ed_a0d9_0bf5813a6449level0_row6\" class=\"row_heading level0 row6\" >6</th>\n",
       "                        <td id=\"T_fcedaa88_278f_11ed_a0d9_0bf5813a6449row6_col0\" class=\"data row6 col0\" >Boehm et al.</td>\n",
       "                        <td id=\"T_fcedaa88_278f_11ed_a0d9_0bf5813a6449row6_col1\" class=\"data row6 col1\" >VGLCA</td>\n",
       "                        <td id=\"T_fcedaa88_278f_11ed_a0d9_0bf5813a6449row6_col2\" class=\"data row6 col2\" >Graph-cut</td>\n",
       "                        <td id=\"T_fcedaa88_278f_11ed_a0d9_0bf5813a6449row6_col3\" class=\"data row6 col3\" >Matlab</td>\n",
       "                        <td id=\"T_fcedaa88_278f_11ed_a0d9_0bf5813a6449row6_col4\" class=\"data row6 col4\" >3D</td>\n",
       "                        <td id=\"T_fcedaa88_278f_11ed_a0d9_0bf5813a6449row6_col5\" class=\"data row6 col5\" >Uniform</td>\n",
       "                        <td id=\"T_fcedaa88_278f_11ed_a0d9_0bf5813a6449row6_col6\" class=\"data row6 col6\" >2021</td>\n",
       "                        <td id=\"T_fcedaa88_278f_11ed_a0d9_0bf5813a6449row6_col7\" class=\"data row6 col7\" ><a href=\"https://gitlab.com/christofboehm/fieldmap-graph-cut\">VGLCA repository</a></td>\n",
       "                        <td id=\"T_fcedaa88_278f_11ed_a0d9_0bf5813a6449row6_col8\" class=\"data row6 col8\" >GC_main</td>\n",
       "            </tr>\n",
       "            <tr>\n",
       "                        <th id=\"T_fcedaa88_278f_11ed_a0d9_0bf5813a6449level0_row7\" class=\"row_heading level0 row7\" >7</th>\n",
       "                        <td id=\"T_fcedaa88_278f_11ed_a0d9_0bf5813a6449row7_col0\" class=\"data row7 col0\" >Hernando et al.</td>\n",
       "                        <td id=\"T_fcedaa88_278f_11ed_a0d9_0bf5813a6449row7_col1\" class=\"data row7 col1\" >Hernado-GC</td>\n",
       "                        <td id=\"T_fcedaa88_278f_11ed_a0d9_0bf5813a6449row7_col2\" class=\"data row7 col2\" >Graph-cut</td>\n",
       "                        <td id=\"T_fcedaa88_278f_11ed_a0d9_0bf5813a6449row7_col3\" class=\"data row7 col3\" >Matlab</td>\n",
       "                        <td id=\"T_fcedaa88_278f_11ed_a0d9_0bf5813a6449row7_col4\" class=\"data row7 col4\" >2D</td>\n",
       "                        <td id=\"T_fcedaa88_278f_11ed_a0d9_0bf5813a6449row7_col5\" class=\"data row7 col5\" >Uniform/Free</td>\n",
       "                        <td id=\"T_fcedaa88_278f_11ed_a0d9_0bf5813a6449row7_col6\" class=\"data row7 col6\" >2015</td>\n",
       "                        <td id=\"T_fcedaa88_278f_11ed_a0d9_0bf5813a6449row7_col7\" class=\"data row7 col7\" ><a href=\"https://www.ismrm.org/workshops/FatWater12/data.htm\">Hernado-GC repository</a></td>\n",
       "                        <td id=\"T_fcedaa88_278f_11ed_a0d9_0bf5813a6449row7_col8\" class=\"data row7 col8\" >hernando_main</td>\n",
       "            </tr>\n",
       "    </tbody></table>"
      ],
      "text/plain": [
       "<pandas.io.formats.style.Styler at 0x7f8836bd5c50>"
      ]
     },
     "execution_count": 4,
     "metadata": {},
     "output_type": "execute_result"
    }
   ],
   "source": [
    "df.style"
   ]
  }
 ],
 "metadata": {
  "celltoolbar": "Edit Metadata",
  "kernelspec": {
   "display_name": "Python 3 (ipykernel)",
   "language": "python",
   "name": "python3"
  },
  "language_info": {
   "codemirror_mode": {
    "name": "ipython",
    "version": 3
   },
   "file_extension": ".py",
   "mimetype": "text/x-python",
   "name": "python",
   "nbconvert_exporter": "python",
   "pygments_lexer": "ipython3",
   "version": "3.7.5"
  }
 },
 "nbformat": 4,
 "nbformat_minor": 5
}
