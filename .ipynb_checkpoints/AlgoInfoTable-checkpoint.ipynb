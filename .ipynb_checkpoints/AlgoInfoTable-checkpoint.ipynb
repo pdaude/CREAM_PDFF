{
 "cells": [
  {
   "cell_type": "code",
   "execution_count": 36,
   "id": "16860e8b",
   "metadata": {},
   "outputs": [],
   "source": [
    "import pandas as pd\n",
    "import os \n",
    "import yaml\n",
    "import glob\n",
    "import os.path as op"
   ]
  },
  {
   "cell_type": "code",
   "execution_count": 42,
   "id": "11ce29b0",
   "metadata": {},
   "outputs": [
    {
     "name": "stdout",
     "output_type": "stream",
     "text": [
      "<_io.TextIOWrapper name='/home/pdaude/Projet_Python/CREAM_PDFF/B0Nice/info_algo.yml' mode='r' encoding='UTF-8'>\n",
      "<_io.TextIOWrapper name='/home/pdaude/Projet_Python/CREAM_PDFF/Bydder/info_algo.yml' mode='r' encoding='UTF-8'>\n",
      "<_io.TextIOWrapper name='/home/pdaude/Projet_Python/CREAM_PDFF/fw_i3cm1i_3pluspoint_berglund_QPBO/info_algo.yml' mode='r' encoding='UTF-8'>\n",
      "<_io.TextIOWrapper name='/home/pdaude/Projet_Python/CREAM_PDFF/FW-Recon-Spatial-Smoothing/info_algo.yml' mode='r' encoding='UTF-8'>\n",
      "<_io.TextIOWrapper name='/home/pdaude/Projet_Python/CREAM_PDFF/GOOSE_FatWaterDecomposition/info_algo.yml' mode='r' encoding='UTF-8'>\n",
      "<_io.TextIOWrapper name='/home/pdaude/Projet_Python/CREAM_PDFF/fwqpbo-master/info_algo.yml' mode='r' encoding='UTF-8'>\n",
      "<_io.TextIOWrapper name='/home/pdaude/Projet_Python/CREAM_PDFF/fieldmap-graph-cut/info_algo.yml' mode='r' encoding='UTF-8'>\n",
      "<_io.TextIOWrapper name='/home/pdaude/Projet_Python/CREAM_PDFF/hernando/info_algo.yml' mode='r' encoding='UTF-8'>\n"
     ]
    }
   ],
   "source": [
    "algoInfoYmlList=glob.glob('./**/info_algo.yml')\n",
    "algoInfoList=[]\n",
    "for algoInfoFile in algoInfoYmlList:\n",
    "    with open(op.abspath(algoInfoFile), 'r') as algoInfoYml:\n",
    "        algoInfoDict=yaml.safe_load(algoInfoYml)\n",
    "        algoInfoList.append(algoInfoDict)"
   ]
  },
  {
   "cell_type": "code",
   "execution_count": 38,
   "id": "40feb440",
   "metadata": {},
   "outputs": [],
   "source": [
    "def convLink(name,url):\n",
    "    return '<a href=\"{}\">{}</a>'.format(url,name)"
   ]
  },
  {
   "cell_type": "code",
   "execution_count": 34,
   "id": "87070ca3",
   "metadata": {},
   "outputs": [
    {
     "data": {
      "text/html": [
       "<style  type=\"text/css\" >\n",
       "</style><table id=\"T_796d0c5a_254e_11ed_ad6b_798168b5ab3e\" ><thead>    <tr>        <th class=\"blank level0\" ></th>        <th class=\"col_heading level0 col0\" >Reference</th>        <th class=\"col_heading level0 col1\" >Referred as</th>        <th class=\"col_heading level0 col2\" >Method</th>        <th class=\"col_heading level0 col3\" >Code</th>        <th class=\"col_heading level0 col4\" >2D/3D</th>        <th class=\"col_heading level0 col5\" >Echo spacing</th>        <th class=\"col_heading level0 col6\" >Year</th>        <th class=\"col_heading level0 col7\" >Code repository</th>    </tr></thead><tbody>\n",
       "                <tr>\n",
       "                        <th id=\"T_796d0c5a_254e_11ed_ad6b_798168b5ab3elevel0_row0\" class=\"row_heading level0 row0\" >0</th>\n",
       "                        <td id=\"T_796d0c5a_254e_11ed_ad6b_798168b5ab3erow0_col0\" class=\"data row0 col0\" >Liu et al.</td>\n",
       "                        <td id=\"T_796d0c5a_254e_11ed_ad6b_798168b5ab3erow0_col1\" class=\"data row0 col1\" >B0-NICE</td>\n",
       "                        <td id=\"T_796d0c5a_254e_11ed_ad6b_798168b5ab3erow0_col2\" class=\"data row0 col2\" >Regio-Based</td>\n",
       "                        <td id=\"T_796d0c5a_254e_11ed_ad6b_798168b5ab3erow0_col3\" class=\"data row0 col3\" >Matlab</td>\n",
       "                        <td id=\"T_796d0c5a_254e_11ed_ad6b_798168b5ab3erow0_col4\" class=\"data row0 col4\" >3D</td>\n",
       "                        <td id=\"T_796d0c5a_254e_11ed_ad6b_798168b5ab3erow0_col5\" class=\"data row0 col5\" >Uniform</td>\n",
       "                        <td id=\"T_796d0c5a_254e_11ed_ad6b_798168b5ab3erow0_col6\" class=\"data row0 col6\" >2015</td>\n",
       "                        <td id=\"T_796d0c5a_254e_11ed_ad6b_798168b5ab3erow0_col7\" class=\"data row0 col7\" ><a href=\"https://fr.mathworks.com/matlabcentral/fileexchange/48313-b0-mapping-b0-nice\">B0-Nice repository</a></td>\n",
       "            </tr>\n",
       "    </tbody></table>"
      ],
      "text/plain": [
       "<pandas.io.formats.style.Styler at 0x7f24c5673850>"
      ]
     },
     "execution_count": 34,
     "metadata": {},
     "output_type": "execute_result"
    }
   ],
   "source": [
    "df=pd.DataFrame([algoInfo])\n",
    "df['Code repository']=df.apply(lambda x: convLink(x['Code repository'],x['Code repository Url']),axis=1)\n",
    "df.drop(columns=[col for col in df.columns if col.find('Url')!=-1],axis=1,inplace=True)\n",
    "df.style"
   ]
  },
  {
   "cell_type": "code",
   "execution_count": 19,
   "id": "371b326c",
   "metadata": {},
   "outputs": [
    {
     "name": "stdout",
     "output_type": "stream",
     "text": [
      "0    <a href=\"B0-Nice repository\">https://fr.mathwo...\n",
      "Name: Code, dtype: object\n"
     ]
    }
   ],
   "source": []
  },
  {
   "cell_type": "code",
   "execution_count": null,
   "id": "293962bd",
   "metadata": {},
   "outputs": [],
   "source": []
  }
 ],
 "metadata": {
  "kernelspec": {
   "display_name": "Python 3 (ipykernel)",
   "language": "python",
   "name": "python3"
  },
  "language_info": {
   "codemirror_mode": {
    "name": "ipython",
    "version": 3
   },
   "file_extension": ".py",
   "mimetype": "text/x-python",
   "name": "python",
   "nbconvert_exporter": "python",
   "pygments_lexer": "ipython3",
   "version": "3.7.5"
  }
 },
 "nbformat": 4,
 "nbformat_minor": 5
}
